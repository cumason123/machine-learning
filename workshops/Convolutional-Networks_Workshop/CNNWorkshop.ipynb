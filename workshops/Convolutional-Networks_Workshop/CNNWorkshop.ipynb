{
  "nbformat": 4,
  "nbformat_minor": 0,
  "metadata": {
    "colab": {
      "name": "CNNWorkshop.ipynb",
      "provenance": [],
      "collapsed_sections": []
    },
    "kernelspec": {
      "name": "python3",
      "display_name": "Python 3"
    },
    "accelerator": "GPU"
  },
  "cells": [
    {
      "cell_type": "code",
      "metadata": {
        "id": "9j-DEtAZ3PJl",
        "colab_type": "code",
        "colab": {}
      },
      "source": [
        "import torch\n",
        "import torchvision\n",
        "import torchvision.datasets as datasets\n",
        "import numpy as np\n",
        "import torch.nn as nn\n",
        "import matplotlib.pyplot as plt\n",
        "import torch.nn.functional as F\n",
        "import torch.optim as optim\n",
        "import time\n",
        "from tqdm import tqdm"
      ],
      "execution_count": 0,
      "outputs": []
    },
    {
      "cell_type": "code",
      "metadata": {
        "id": "5IABH_rm3dIY",
        "colab_type": "code",
        "colab": {
          "base_uri": "https://localhost:8080/",
          "height": 680
        },
        "outputId": "9b52f478-8fec-434d-fefb-0a396119ccd7"
      },
      "source": [
        "train = datasets.MNIST('./data', download=True, train=True, transform=None)\n",
        "test = datasets.MNIST('./data', download=True, train=False, transform=None)\n",
        "\n",
        "train_x = torch.tensor([[np.array(x)] for x,y in train]).float().cuda()\n",
        "train_y = torch.tensor([y for x,y in train]).long().cuda()"
      ],
      "execution_count": 2,
      "outputs": [
        {
          "output_type": "stream",
          "text": [
            "  0%|          | 0/9912422 [00:00<?, ?it/s]"
          ],
          "name": "stderr"
        },
        {
          "output_type": "stream",
          "text": [
            "Downloading http://yann.lecun.com/exdb/mnist/train-images-idx3-ubyte.gz to ./data/MNIST/raw/train-images-idx3-ubyte.gz\n"
          ],
          "name": "stdout"
        },
        {
          "output_type": "stream",
          "text": [
            "100%|█████████▉| 9871360/9912422 [00:11<00:00, 995247.81it/s]"
          ],
          "name": "stderr"
        },
        {
          "output_type": "stream",
          "text": [
            "Extracting ./data/MNIST/raw/train-images-idx3-ubyte.gz to ./data/MNIST/raw\n"
          ],
          "name": "stdout"
        },
        {
          "output_type": "stream",
          "text": [
            "\n",
            "0it [00:00, ?it/s]\u001b[A\n",
            "32768it [00:00, 357349.07it/s]\u001b[A\n",
            "0it [00:00, ?it/s]\u001b[A"
          ],
          "name": "stderr"
        },
        {
          "output_type": "stream",
          "text": [
            "Downloading http://yann.lecun.com/exdb/mnist/train-labels-idx1-ubyte.gz to ./data/MNIST/raw/train-labels-idx1-ubyte.gz\n",
            "Extracting ./data/MNIST/raw/train-labels-idx1-ubyte.gz to ./data/MNIST/raw\n",
            "Downloading http://yann.lecun.com/exdb/mnist/t10k-images-idx3-ubyte.gz to ./data/MNIST/raw/t10k-images-idx3-ubyte.gz\n"
          ],
          "name": "stdout"
        },
        {
          "output_type": "stream",
          "text": [
            "\n",
            "  1%|          | 16384/1648877 [00:00<00:11, 139603.93it/s]\u001b[A\n",
            "  2%|▏         | 40960/1648877 [00:00<00:10, 149578.70it/s]\u001b[A\n",
            "  4%|▍         | 65536/1648877 [00:00<00:09, 164869.58it/s]\u001b[A\n",
            "  5%|▍         | 81920/1648877 [00:00<00:10, 148778.40it/s]\u001b[A\n",
            "  6%|▌         | 98304/1648877 [00:00<00:11, 132453.34it/s]\u001b[A\n",
            "  7%|▋         | 122880/1648877 [00:00<00:09, 153537.35it/s]\u001b[A\n",
            " 10%|▉         | 163840/1648877 [00:00<00:08, 183380.92it/s]\u001b[A\n",
            " 13%|█▎        | 221184/1648877 [00:00<00:06, 228030.38it/s]\u001b[A\n",
            " 18%|█▊        | 294912/1648877 [00:01<00:04, 285746.56it/s]\u001b[A\n",
            " 23%|██▎       | 376832/1648877 [00:01<00:03, 349667.32it/s]\u001b[A\n",
            " 29%|██▉       | 475136/1648877 [00:01<00:02, 430998.18it/s]\u001b[A\n",
            " 35%|███▌      | 581632/1648877 [00:01<00:02, 524338.47it/s]\u001b[A\n",
            " 43%|████▎     | 704512/1648877 [00:01<00:01, 631832.53it/s]\u001b[A\n",
            " 51%|█████     | 843776/1648877 [00:01<00:01, 754843.48it/s]\u001b[A\n",
            " 59%|█████▉    | 974848/1648877 [00:01<00:00, 855773.66it/s]\u001b[A\n",
            " 68%|██████▊   | 1122304/1648877 [00:01<00:00, 893709.26it/s]\u001b[A\n",
            " 75%|███████▌  | 1236992/1648877 [00:01<00:00, 888163.92it/s]\u001b[A\n",
            " 81%|████████▏ | 1343488/1648877 [00:02<00:00, 715094.17it/s]\u001b[A\n",
            " 88%|████████▊ | 1449984/1648877 [00:02<00:00, 764751.81it/s]\u001b[A\n",
            " 95%|█████████▍| 1564672/1648877 [00:02<00:00, 833943.99it/s]\u001b[A\n",
            "1654784it [00:02, 665611.87it/s]                             \u001b[A\n",
            "0it [00:00, ?it/s]\u001b[A\n",
            "8192it [00:00, 153905.62it/s]\u001b[A"
          ],
          "name": "stderr"
        },
        {
          "output_type": "stream",
          "text": [
            "Extracting ./data/MNIST/raw/t10k-images-idx3-ubyte.gz to ./data/MNIST/raw\n",
            "Downloading http://yann.lecun.com/exdb/mnist/t10k-labels-idx1-ubyte.gz to ./data/MNIST/raw/t10k-labels-idx1-ubyte.gz\n",
            "Extracting ./data/MNIST/raw/t10k-labels-idx1-ubyte.gz to ./data/MNIST/raw\n",
            "Processing...\n",
            "Done!\n"
          ],
          "name": "stdout"
        },
        {
          "output_type": "stream",
          "text": [
            "\r9920512it [00:24, 995247.81it/s]                             "
          ],
          "name": "stderr"
        }
      ]
    },
    {
      "cell_type": "code",
      "metadata": {
        "id": "ntDfHiDGb01o",
        "colab_type": "code",
        "colab": {}
      },
      "source": [
        "class CNNBareBones(nn.Module):\n",
        "  def __init__(self):\n",
        "    super(CNNBareBones, self).__init__()\n",
        "    self.conv1 = nn.Conv2d(1, 4, kernel_size=3, stride=1, padding=1)\n",
        "    self.conv2 = nn.Conv2d(4,4, kernel_size=3, stride=1, padding=1)\n",
        "    self.squash = nn.Linear(4*28*28, 10).cuda()\n",
        "    \n",
        "  def forward(self, x):\n",
        "    a1 = F.relu(self.conv1(x)) \n",
        "    a2 = F.relu(self.conv2(a1))\n",
        "    x = a2.view(-1, 4*28*28)\n",
        "    out = F.softmax(self.squash(x))\n",
        "    return out\n",
        "  \n",
        "  def train_and_plot(self, train_x, train_y, train_steps = 100):\n",
        "    losses = []\n",
        "\n",
        "    # create your optimizer\n",
        "    lossfunc = nn.CrossEntropyLoss()\n",
        "    optimizer = optim.Adam(net.parameters(), lr=0.01)\n",
        "    timestamp = time.time()\n",
        "\n",
        "    for i in tqdm(range(train_steps)):\n",
        "      # reset the gradient buffers\n",
        "      optimizer.zero_grad()   \n",
        "      \n",
        "      # forward pass\n",
        "      output = net(train_x)\n",
        "      \n",
        "      # calculate loss\n",
        "      loss = lossfunc(output, train_y)\n",
        "      loss.backward()\n",
        "      \n",
        "      # save loss\n",
        "      losses.append(loss)\n",
        "      \n",
        "      # update weights\n",
        "      optimizer.step()\n",
        "    plt.plot(losses)\n",
        "    plt.show()\n",
        "    plt.close()\n",
        "    \n",
        "    print('Finished in {0}s'.format(time.time() - timestamp))\n",
        "  "
      ],
      "execution_count": 0,
      "outputs": []
    },
    {
      "cell_type": "code",
      "metadata": {
        "id": "z7NuJpAGmJeS",
        "colab_type": "code",
        "outputId": "eb69cb79-5e1b-4646-94a0-fad36ca5dd14",
        "colab": {
          "base_uri": "https://localhost:8080/",
          "height": 1000
        }
      },
      "source": [
        "net = CNNBareBones().cuda()\n",
        "net.train_and_plot(train_x, train_y)"
      ],
      "execution_count": 4,
      "outputs": [
        {
          "output_type": "stream",
          "text": [
            "\n",
            "  0%|          | 0/100 [00:00<?, ?it/s]\u001b[A/usr/local/lib/python3.6/dist-packages/ipykernel_launcher.py:12: UserWarning: Implicit dimension choice for softmax has been deprecated. Change the call to include dim=X as an argument.\n",
            "  if sys.path[0] == '':\n",
            "\n",
            "  1%|          | 1/100 [00:00<00:44,  2.23it/s]\u001b[A\n",
            " 13%|█▎        | 13/100 [00:01<00:29,  2.91it/s]\u001b[A\n",
            " 14%|█▍        | 14/100 [00:02<00:52,  1.64it/s]\u001b[A\n",
            " 15%|█▌        | 15/100 [00:04<01:07,  1.26it/s]\u001b[A\n",
            " 16%|█▌        | 16/100 [00:05<01:17,  1.08it/s]\u001b[A\n",
            " 17%|█▋        | 17/100 [00:06<01:24,  1.02s/it]\u001b[A\n",
            " 18%|█▊        | 18/100 [00:07<01:28,  1.08s/it]\u001b[A\n",
            " 19%|█▉        | 19/100 [00:09<01:31,  1.13s/it]\u001b[A\n",
            " 20%|██        | 20/100 [00:10<01:32,  1.16s/it]\u001b[A\n",
            " 21%|██        | 21/100 [00:11<01:33,  1.18s/it]\u001b[A\n",
            " 22%|██▏       | 22/100 [00:12<01:33,  1.19s/it]\u001b[A\n",
            " 23%|██▎       | 23/100 [00:13<01:32,  1.20s/it]\u001b[A\n",
            " 24%|██▍       | 24/100 [00:15<01:32,  1.21s/it]\u001b[A\n",
            " 25%|██▌       | 25/100 [00:16<01:31,  1.22s/it]\u001b[A\n",
            " 26%|██▌       | 26/100 [00:17<01:30,  1.22s/it]\u001b[A\n",
            " 27%|██▋       | 27/100 [00:18<01:29,  1.22s/it]\u001b[A\n",
            " 28%|██▊       | 28/100 [00:20<01:28,  1.23s/it]\u001b[A\n",
            " 29%|██▉       | 29/100 [00:21<01:27,  1.23s/it]\u001b[A\n",
            " 30%|███       | 30/100 [00:22<01:26,  1.23s/it]\u001b[A\n",
            " 31%|███       | 31/100 [00:23<01:24,  1.23s/it]\u001b[A\n",
            " 32%|███▏      | 32/100 [00:25<01:23,  1.23s/it]\u001b[A\n",
            " 33%|███▎      | 33/100 [00:26<01:22,  1.23s/it]\u001b[A\n",
            " 34%|███▍      | 34/100 [00:27<01:21,  1.23s/it]\u001b[A\n",
            " 35%|███▌      | 35/100 [00:28<01:20,  1.23s/it]\u001b[A\n",
            " 36%|███▌      | 36/100 [00:29<01:18,  1.23s/it]\u001b[A\n",
            " 37%|███▋      | 37/100 [00:31<01:17,  1.23s/it]\u001b[A\n",
            " 38%|███▊      | 38/100 [00:32<01:16,  1.23s/it]\u001b[A\n",
            " 39%|███▉      | 39/100 [00:33<01:15,  1.23s/it]\u001b[A\n",
            " 40%|████      | 40/100 [00:34<01:13,  1.23s/it]\u001b[A\n",
            " 41%|████      | 41/100 [00:36<01:12,  1.23s/it]\u001b[A\n",
            " 42%|████▏     | 42/100 [00:37<01:11,  1.23s/it]\u001b[A\n",
            " 43%|████▎     | 43/100 [00:38<01:10,  1.23s/it]\u001b[A\n",
            " 44%|████▍     | 44/100 [00:39<01:08,  1.23s/it]\u001b[A\n",
            " 45%|████▌     | 45/100 [00:41<01:07,  1.23s/it]\u001b[A\n",
            " 46%|████▌     | 46/100 [00:42<01:06,  1.23s/it]\u001b[A\n",
            " 47%|████▋     | 47/100 [00:43<01:05,  1.23s/it]\u001b[A\n",
            " 48%|████▊     | 48/100 [00:44<01:04,  1.23s/it]\u001b[A\n",
            " 49%|████▉     | 49/100 [00:45<01:02,  1.23s/it]\u001b[A\n",
            " 50%|█████     | 50/100 [00:47<01:01,  1.23s/it]\u001b[A\n",
            " 51%|█████     | 51/100 [00:48<01:00,  1.23s/it]\u001b[A\n",
            " 52%|█████▏    | 52/100 [00:49<00:59,  1.23s/it]\u001b[A\n",
            " 53%|█████▎    | 53/100 [00:50<00:57,  1.23s/it]\u001b[A\n",
            " 54%|█████▍    | 54/100 [00:52<00:56,  1.23s/it]\u001b[A\n",
            " 55%|█████▌    | 55/100 [00:53<00:55,  1.23s/it]\u001b[A\n",
            " 56%|█████▌    | 56/100 [00:54<00:54,  1.23s/it]\u001b[A\n",
            " 57%|█████▋    | 57/100 [00:55<00:53,  1.23s/it]\u001b[A\n",
            " 58%|█████▊    | 58/100 [00:57<00:51,  1.23s/it]\u001b[A\n",
            " 59%|█████▉    | 59/100 [00:58<00:50,  1.23s/it]\u001b[A\n",
            " 60%|██████    | 60/100 [00:59<00:49,  1.23s/it]\u001b[A\n",
            " 61%|██████    | 61/100 [01:00<00:48,  1.23s/it]\u001b[A\n",
            " 62%|██████▏   | 62/100 [01:01<00:46,  1.23s/it]\u001b[A\n",
            " 63%|██████▎   | 63/100 [01:03<00:45,  1.23s/it]\u001b[A\n",
            " 64%|██████▍   | 64/100 [01:04<00:44,  1.23s/it]\u001b[A\n",
            " 65%|██████▌   | 65/100 [01:05<00:43,  1.23s/it]\u001b[A\n",
            " 66%|██████▌   | 66/100 [01:06<00:41,  1.23s/it]\u001b[A\n",
            " 67%|██████▋   | 67/100 [01:08<00:40,  1.24s/it]\u001b[A\n",
            " 68%|██████▊   | 68/100 [01:09<00:39,  1.23s/it]\u001b[A\n",
            " 69%|██████▉   | 69/100 [01:10<00:38,  1.23s/it]\u001b[A\n",
            " 70%|███████   | 70/100 [01:11<00:37,  1.23s/it]\u001b[A\n",
            " 71%|███████   | 71/100 [01:13<00:35,  1.23s/it]\u001b[A\n",
            " 72%|███████▏  | 72/100 [01:14<00:34,  1.23s/it]\u001b[A\n",
            " 73%|███████▎  | 73/100 [01:15<00:33,  1.23s/it]\u001b[A\n",
            " 74%|███████▍  | 74/100 [01:16<00:32,  1.23s/it]\u001b[A\n",
            " 75%|███████▌  | 75/100 [01:18<00:30,  1.23s/it]\u001b[A\n",
            " 76%|███████▌  | 76/100 [01:19<00:29,  1.23s/it]\u001b[A\n",
            " 77%|███████▋  | 77/100 [01:20<00:28,  1.23s/it]\u001b[A\n",
            " 78%|███████▊  | 78/100 [01:21<00:27,  1.23s/it]\u001b[A\n",
            " 79%|███████▉  | 79/100 [01:22<00:25,  1.23s/it]\u001b[A\n",
            " 80%|████████  | 80/100 [01:24<00:24,  1.23s/it]\u001b[A\n",
            " 81%|████████  | 81/100 [01:25<00:23,  1.23s/it]\u001b[A\n",
            " 82%|████████▏ | 82/100 [01:26<00:22,  1.23s/it]\u001b[A\n",
            " 83%|████████▎ | 83/100 [01:27<00:20,  1.23s/it]\u001b[A\n",
            " 84%|████████▍ | 84/100 [01:29<00:19,  1.24s/it]\u001b[A\n",
            " 85%|████████▌ | 85/100 [01:30<00:18,  1.23s/it]\u001b[A\n",
            " 86%|████████▌ | 86/100 [01:31<00:17,  1.23s/it]\u001b[A\n",
            " 87%|████████▋ | 87/100 [01:32<00:16,  1.24s/it]\u001b[A\n",
            " 88%|████████▊ | 88/100 [01:34<00:14,  1.23s/it]\u001b[A\n",
            " 89%|████████▉ | 89/100 [01:35<00:13,  1.23s/it]\u001b[A\n",
            " 90%|█████████ | 90/100 [01:36<00:12,  1.24s/it]\u001b[A\n",
            " 91%|█████████ | 91/100 [01:37<00:11,  1.24s/it]\u001b[A\n",
            " 92%|█████████▏| 92/100 [01:39<00:09,  1.24s/it]\u001b[A\n",
            " 93%|█████████▎| 93/100 [01:40<00:08,  1.24s/it]\u001b[A\n",
            " 94%|█████████▍| 94/100 [01:41<00:07,  1.24s/it]\u001b[A\n",
            " 95%|█████████▌| 95/100 [01:42<00:06,  1.23s/it]\u001b[A\n",
            " 96%|█████████▌| 96/100 [01:43<00:04,  1.23s/it]\u001b[A\n",
            " 97%|█████████▋| 97/100 [01:45<00:03,  1.23s/it]\u001b[A\n",
            " 98%|█████████▊| 98/100 [01:46<00:02,  1.23s/it]\u001b[A\n",
            " 99%|█████████▉| 99/100 [01:47<00:01,  1.23s/it]\u001b[A\n",
            "100%|██████████| 100/100 [01:48<00:00,  1.23s/it]\u001b[A\n",
            "\u001b[A"
          ],
          "name": "stderr"
        },
        {
          "output_type": "display_data",
          "data": {
            "image/png": "[encoded data removed]",
            "text/plain": [
              "<Figure size 432x288 with 1 Axes>"
            ]
          },
          "metadata": {
            "tags": []
          }
        },
        {
          "output_type": "stream",
          "text": [
            "Finished in 123.96543216705322s\n"
          ],
          "name": "stdout"
        }
      ]
    },
    {
      "cell_type": "code",
      "metadata": {
        "id": "b8-IlX1o55ZR",
        "colab_type": "code",
        "colab": {}
      },
      "source": [
        ""
      ],
      "execution_count": 0,
      "outputs": []
    }
  ]
}