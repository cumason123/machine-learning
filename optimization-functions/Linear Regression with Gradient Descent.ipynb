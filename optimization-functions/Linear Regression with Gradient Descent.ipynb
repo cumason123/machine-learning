{
 "cells": [
  {
   "cell_type": "code",
   "execution_count": 1,
   "metadata": {},
   "outputs": [],
   "source": [
    "import numpy as np\n",
    "import matplotlib.pyplot as plt"
   ]
  },
  {
   "cell_type": "markdown",
   "metadata": {},
   "source": [
    "# Simple Gradient Descent With Linear Regression\n",
    "$$y = wx + b$$\n",
    "Our goal for this notebook is to make an iterative process to guess the values for w and b"
   ]
  },
  {
   "cell_type": "code",
   "execution_count": 2,
   "metadata": {},
   "outputs": [
    {
     "data": {
      "image/png": "[encoded data removed]",
      "text/plain": [
       "<Figure size 432x288 with 1 Axes>"
      ]
     },
     "metadata": {
      "needs_background": "light"
     },
     "output_type": "display_data"
    }
   ],
   "source": [
    "# First let's define x, y, w, b\n",
    "x = np.linspace(0, 20, 100)\n",
    "w = 5\n",
    "b = 3\n",
    "y = (w*x + b)\n",
    "\n",
    "plt.scatter(x, y)\n",
    "plt.show()"
   ]
  },
  {
   "cell_type": "markdown",
   "metadata": {},
   "source": [
    "In real world data, however, we have noise. For example, let's say we had you take a questionnaire twice. \n",
    "It could be the case that you put down different answers for the questionnaire the first time you took it\n",
    "in comparison to the second time you took it. So while there may be some true y-result of what you actually\n",
    "meant to put in the questionnaire, perhaps some noise due to your mood, whether you're hungry, or other external\n",
    "factors caused you to add some noise to your answers leading you to put down 2 different results for the same\n",
    "questionnaire.\n",
    "\n",
    "For this reason, statisticians and machine learning engineers cannot neglect the importance of noise! Instead of training on y, it would be a better real world example if we trained on a noisy y dataset. We define noisy_y to be the addition of some actual underlying label y which we do not observe, and some noise factor $\\epsilon$ (epsilon) which we often normally distribute. \n",
    "\n",
    "noisy_y are the values of y which we actually observe within our data sets.\n",
    "$$noisy\\_y = y + \\epsilon$$"
   ]
  },
  {
   "cell_type": "code",
   "execution_count": 3,
   "metadata": {},
   "outputs": [
    {
     "data": {
      "image/png": "[encoded data removed]",
      "text/plain": [
       "<Figure size 432x288 with 1 Axes>"
      ]
     },
     "metadata": {
      "needs_background": "light"
     },
     "output_type": "display_data"
    }
   ],
   "source": [
    "epsilon = np.random.normal(size=(100))*10 # normally distributed noise\n",
    "noisy_y = y + epsilon\n",
    "\n",
    "plt.scatter(x, noisy_y)\n",
    "plt.show()"
   ]
  },
  {
   "cell_type": "markdown",
   "metadata": {},
   "source": [
    "Our Goal is to have our $\\theta$ hyperparameters converge into the values of w, and b. We will do so by minimizing our loss function J (also known as argmin(J)). \n",
    "\n",
    "We will also define $\\hat{y}$ to be our estimations of what we expect the value of y should be given some x input data by using some guess $\\theta$. Our initial guess for yhat will be really bad which should be reflected by our loss function having a high value.\n",
    "\n",
    "Our function $J_\\theta$ represents how wrong our guesses $\\hat{y}$ are with respect to noisy_y. The loss function we will use for J is MSE (mean squared error). This loss function is a very common function for regression based problems due to a probabilistic derivation of which we will not go into during this notebook.\n",
    "\n",
    "$$\\hat{y} = \\theta_0x + \\theta_1$$\n",
    "$$J_\\theta(noisy\\_y | x) = MSE_{\\theta}(noisy\\_y | x) = \\sum(noisy\\_y - \\hat{y})^2$$"
   ]
  },
  {
   "cell_type": "code",
   "execution_count": 4,
   "metadata": {},
   "outputs": [
    {
     "data": {
      "image/png": "[encoded data removed]",
      "text/plain": [
       "<Figure size 432x288 with 1 Axes>"
      ]
     },
     "metadata": {
      "needs_background": "light"
     },
     "output_type": "display_data"
    }
   ],
   "source": [
    "theta = [0.01, -0.01]\n",
    "\n",
    "# Let's define our loss function := sum((y-yhat)**2), and our hypothesis predictiction, yhat := theta[0] * x + theta[1]\n",
    "def yhat(x):\n",
    "    return theta[0] * x + theta[1]\n",
    "\n",
    "def mean_squared_error(noisy_y, x):\n",
    "    return sum((noisy_y - yhat(x))**2)\n",
    "\n",
    "# Now let's plot our current guess\n",
    "plt.plot(x, yhat(x))\n",
    "plt.scatter(x, noisy_y, label='Our initial guess for {0}x + {1}'.format(w, b))\n",
    "plt.show()"
   ]
  },
  {
   "cell_type": "markdown",
   "metadata": {},
   "source": [
    "To converge our $\\theta$ values to the actual values for w, and b we will utilize an iterative process called gradient descent. We could solve this algebraically by setting $\\nabla_{\\theta}J = 0$ and solving for values of $\\theta$ however by doing so we will need to do various calculations including inverting matrices. The inversion of a matrix is a roughly $n^3$ operation, therefore it becomes unweidly in networks which have millions of hyper parameters. \n",
    "\n",
    "Instead we will use a method called Gradient Descent. Gradient Descent simply utilizes a loss function and minimizes the loss function with respect to $\\theta$ to make your guesses more accurate.  \n",
    "\n",
    "First it finds the direction to move $\\theta$ by using partial derivatives. If $\\frac{\\delta J}{\\delta \\theta_0}$ is positive, then we know increasing $\\theta_0$ makes your predictions less accurate as your loss would increase, hence later on we will be subtracting our partial derivatives. Also note that as your guesses get closer to the true values of w and b, your derivatives will become flatter and thus smaller. dJ/d$\\theta$ therefore, naturally decreases over time causing you to take smaller steps as you slowly converge.\n",
    "\n",
    "It also attempts to scale how much you move in a single direction through a value known as the learning rate, also commonly referred to as $\\alpha$ (alpha). \n",
    "\n",
    "To actually move our theta closer to the true values, we use an update rule.\n",
    "\n",
    "The general Gradient Descent update rule is as follows:\n",
    "\n",
    "$$\\theta = \\theta - \\alpha\\nabla_\\theta{J}$$\n",
    "\n",
    "We will define $\\alpha$ as $1*10^{-4}$. \n",
    "\n",
    "Let's recall that\n",
    "\n",
    "$$J_\\theta(noisy\\_y) = \\sum(noisy\\_y - \\hat{y})^2$$\n",
    "and\n",
    "$$\\hat{y} = \\theta_0x + \\theta_1$$\n",
    "\n",
    "Therefore our partial derivatives are as follows:\n",
    "$$\\frac{\\delta J}{\\delta \\theta_0} = (\\sum\\frac{noisy\\_y - \\hat{y}}{2})(-x)$$\n",
    "\n",
    "$$\\frac{\\delta J}{\\delta \\theta_1} = (\\sum\\frac{noisy\\_y - \\hat{y}}{2})(-1)$$\n",
    "\n",
    "Finally, because Gradient Descent is an iterative approach we must specify how many times do we repeat our learning update rule until we slowly converge. We typically define the number of update steps as the number of epochs. \n",
    "\n",
    "This method enables us to slowly converge our hyperparameters to some values which give us good guesses for noisy_y. We can do this iterative approach faster and with larger amounts of hyperparameters than we would through directly solving for the optimal values of $\\theta$.\n"
   ]
  },
  {
   "cell_type": "code",
   "execution_count": 5,
   "metadata": {},
   "outputs": [
    {
     "name": "stdout",
     "output_type": "stream",
     "text": [
      "Estimated 5.166370384883672x + 0.642080384741\n"
     ]
    },
    {
     "data": {
      "image/png": "[encoded data removed]",
      "text/plain": [
       "<Figure size 432x288 with 1 Axes>"
      ]
     },
     "metadata": {
      "needs_background": "light"
     },
     "output_type": "display_data"
    },
    {
     "data": {
      "image/png": "[encoded data removed]",
      "text/plain": [
       "<Figure size 432x288 with 1 Axes>"
      ]
     },
     "metadata": {
      "needs_background": "light"
     },
     "output_type": "display_data"
    }
   ],
   "source": [
    "# learning rate/Alpha\n",
    "learning_rate = 1e-4\n",
    "\n",
    "# Let's define the number of training iterations and a metric to record our loss\n",
    "epochs = 100\n",
    "historical_loss = []\n",
    "\n",
    "# Finally let's train\n",
    "for i in range(epochs):\n",
    "    historical_loss.append(mean_squared_error(noisy_y,x)) # record loss\n",
    "    guesses = yhat(x) # make our prediction\n",
    "    theta[0] -= learning_rate * sum(((noisy_y - guesses)/2) * (-1) * x) # update theta[0] (our guess for w)\n",
    "    theta[1] -= learning_rate * sum(((noisy_y - guesses)/2) * (-1) * (1)) # update theta[1] (our guess for b)\n",
    "    \n",
    "# Plot our regression\n",
    "print('Estimated {0}x + {1}'.format(theta[0], theta[1]))\n",
    "plt.plot(x, yhat(x))\n",
    "plt.scatter(x, noisy_y)\n",
    "plt.show()\n",
    "\n",
    "# Plot our loss function\n",
    "plt.plot(historical_loss)\n",
    "plt.show()"
   ]
  },
  {
   "cell_type": "code",
   "execution_count": 6,
   "metadata": {},
   "outputs": [
    {
     "name": "stdout",
     "output_type": "stream",
     "text": [
      "8226.305194050165\n"
     ]
    }
   ],
   "source": [
    "print(historical_loss[-1])"
   ]
  },
  {
   "cell_type": "markdown",
   "metadata": {},
   "source": [
    "At this point you're probably scratching your head as to how I derived\n",
    "$$\\frac{\\delta J}{\\delta \\theta_0} = (\\sum\\frac{noisy\\_y - \\hat{y}}{2})(-x)$$\n",
    "\n",
    "$$\\frac{\\delta J}{\\delta \\theta_1} = (\\sum\\frac{noisy\\_y - \\hat{y}}{2})(-1)$$\n",
    "\n",
    "Let's once again recall that\n",
    "\n",
    "$$J_\\theta(noisy\\_y) = \\sum(noisy\\_y - \\hat{y})^2$$\n",
    "\n",
    "and\n",
    "\n",
    "$$\\hat{y} = \\theta_0x + \\theta_1$$\n",
    "\n",
    "So here's the derivation:\n",
    "\n",
    "$$\\frac{\\delta J}{\\delta(noisy\\_y - \\hat{y})} = (\\sum\\frac{noisy\\_y - \\hat{y}}{2})$$\n",
    "\n",
    "$$\\frac{\\delta (noisy\\_y - \\hat{y})}{\\delta \\hat{y}} = -1$$\n",
    "\n",
    "$$\\frac{\\delta \\hat{y}}{\\delta \\theta_0} = x$$\n",
    "\n",
    "$$\\frac{\\delta \\hat{y}}{\\delta \\theta_1} = 1$$\n",
    "\n",
    "\n",
    "Therefore\n",
    "$\\cancel{2-2}$\n",
    "\n",
    "$$\\frac{\\delta J}{\\delta \\theta_0} = \n",
    "\\frac{\\delta J}{\\cancel{\\delta(noisy\\_y - \\hat{y})}}\n",
    "\\frac{\\cancel{\\delta (noisy\\_y - \\hat{y})}}{\\cancel{\\delta \\hat{y}}}\n",
    "\\frac{\\cancel{\\delta \\hat{y}}}{\\delta \\theta_0} = (\\sum\\frac{noisy\\_y - \\hat{y}}{2})(-1)(x)$$\n",
    "\n",
    "$$\\frac{\\delta J}{\\delta \\theta_1} = \n",
    "\\frac{\\delta J}{\\cancel{\\delta(noisy\\_y - \\hat{y})}}\n",
    "\\frac{\\cancel{\\delta (noisy\\_y - \\hat{y})}}{\\cancel{\\delta \\hat{y}}}\n",
    "\\frac{\\cancel{\\delta \\hat{y}}}{\\delta \\theta_1} = (\\sum\\frac{noisy\\_y - \\hat{y}}{2})(-1)(1)$$"
   ]
  },
  {
   "cell_type": "code",
   "execution_count": null,
   "metadata": {},
   "outputs": [],
   "source": []
  }
 ],
 "metadata": {
  "kernelspec": {
   "display_name": "Python 3",
   "language": "python",
   "name": "python3"
  },
  "language_info": {
   "codemirror_mode": {
    "name": "ipython",
    "version": 3
   },
   "file_extension": ".py",
   "mimetype": "text/x-python",
   "name": "python",
   "nbconvert_exporter": "python",
   "pygments_lexer": "ipython3",
   "version": "3.6.8"
  }
 },
 "nbformat": 4,
 "nbformat_minor": 2
}
