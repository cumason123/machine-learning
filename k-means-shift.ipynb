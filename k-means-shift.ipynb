{
 "cells": [
  {
   "cell_type": "code",
   "execution_count": 120,
   "metadata": {},
   "outputs": [
    {
     "data": {
      "image/png": "[encoded data removed]",
      "text/plain": [
       "<Figure size 432x288 with 1 Axes>"
      ]
     },
     "metadata": {
      "needs_background": "light"
     },
     "output_type": "display_data"
    }
   ],
   "source": [
    "import numpy as np\n",
    "import matplotlib.pyplot as plt\n",
    "from sklearn.datasets.samples_generator import make_blobs\n",
    "%matplotlib inline\n",
    "\n",
    "np.random.seed(5)\n",
    "points, classes = make_blobs(n_features=2, n_samples=2*15, centers=4)\n",
    "X, Y = np.dstack(points)[0]\n",
    "plt.scatter(X, Y)\n",
    "plt.show()"
   ]
  },
  {
   "cell_type": "code",
   "execution_count": 121,
   "metadata": {},
   "outputs": [],
   "source": [
    "class KMeansShift():\n",
    "    def __init__(self, K):\n",
    "        self.k = K\n",
    "        \n",
    "    \n",
    "    @classmethod\n",
    "    def plot(self, X, Y, cent_x, cent_y):\n",
    "        plt.scatter(X, Y, label='data points', color='blue')\n",
    "        plt.scatter(cent_x, cent_y, color='yellow', label='centroids')\n",
    "        plt.legend()\n",
    "        plt.show()\n",
    "        plt.close()\n",
    "        \n",
    "    \n",
    "    @classmethod\n",
    "    def error(self, points, centroids):\n",
    "        err = 0\n",
    "        for point in points:\n",
    "            classification = np.argmin([np.linalg.norm(point-centroid) for centroid in centroids])\n",
    "            err += (point-centroids[classification])**2\n",
    "        return sum(err)\n",
    "    \n",
    "    \n",
    "    def fit(self, X, Y, trials=2):\n",
    "                \n",
    "        trial_results = []\n",
    "        trial_errors = []\n",
    "        \n",
    "        for trial in range(trials):\n",
    "            centroids = np.random.randint(0, 256, (self.k, 2))\n",
    "            prev_centroids = [-1]\n",
    "\n",
    "            while(not all(item == True for item in (prev_centroids == centroids).flatten())):\n",
    "                prev_centroids = centroids.copy()\n",
    "                new_centroids = np.zeros((self.k, 2))\n",
    "                num_neighbors = np.zeros(self.k)\n",
    "\n",
    "                for i in range(len(X)):\n",
    "                    distances = [np.linalg.norm(centroid-np.array([X[i], Y[i]])) for centroid in centroids]\n",
    "                    min_index = np.argmin(distances)\n",
    "                    new_centroids[min_index] += [X[i], Y[i]]\n",
    "                    num_neighbors[min_index] += 1\n",
    "\n",
    "                for i in range(len(new_centroids)):\n",
    "                    if num_neighbors[i] != 0:\n",
    "                        new_centroids[i] /= num_neighbors[i]\n",
    "\n",
    "                centroids = new_centroids\n",
    "                \n",
    "            trial_results.append(centroids)\n",
    "            trial_errors.append(self.error(np.dstack((X, Y))[0], centroids))\n",
    "        return trial_results[np.argmin(trial_errors)]"
   ]
  },
  {
   "cell_type": "code",
   "execution_count": 122,
   "metadata": {},
   "outputs": [
    {
     "data": {
      "image/png": "[encoded data removed]",
      "text/plain": [
       "<Figure size 432x288 with 1 Axes>"
      ]
     },
     "metadata": {
      "needs_background": "light"
     },
     "output_type": "display_data"
    }
   ],
   "source": [
    "kmeans = KMeansShift(4)\n",
    "centroids = kmeans.fit(X, Y, 1)\n",
    "cent_x, cent_y = np.dstack(centroids)[0]\n",
    "kmeans.plot(X, Y, cent_x, cent_y) "
   ]
  }
 ],
 "metadata": {
  "kernelspec": {
   "display_name": "Python 3",
   "language": "python",
   "name": "python3"
  },
  "language_info": {
   "codemirror_mode": {
    "name": "ipython",
    "version": 3
   },
   "file_extension": ".py",
   "mimetype": "text/x-python",
   "name": "python",
   "nbconvert_exporter": "python",
   "pygments_lexer": "ipython3",
   "version": "3.6.8"
  }
 },
 "nbformat": 4,
 "nbformat_minor": 2
}
