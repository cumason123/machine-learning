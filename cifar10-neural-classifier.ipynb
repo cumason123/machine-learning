{
 "cells": [
  {
   "cell_type": "code",
   "execution_count": null,
   "metadata": {},
   "outputs": [],
   "source": [
    "import tensorflow as tf\n",
    "import numpy as np\n",
    "import matplotlib.pyplot as plt\n",
    "\n",
    "class NeuralClassifier():\n",
    "    def __init__(self, model_shape, input_shape):\n",
    "        self.num_layers = len(model_shape)\n",
    "        self.num_deep_layers = self.num_layers - 2\n",
    "        self.model_shape = model_shape\n",
    "        self.layers = []\n",
    "        \n",
    "        for layer in range(self.num_layers):\n",
    "            if layer == self.num_layers - 1: # Output layer:\n",
    "                self.layers.append({\n",
    "                    'weights': tf.Variable(tf.random_normal((model_shape[layer], model_shape[layer+1])))\n",
    "                })\n",
    "            else:       \n",
    "                self.layers.append({\n",
    "                    'weights': tf.Variable(tf.random_normal((model_shape[layer], model_shape[layer+1]))),\n",
    "                    'biases': tf.Variable(tf.random_normal(model_shape))\n",
    "                })        \n",
    "    \n",
    "    def model(self, X):\n",
    "        forward_propagation = tf.add(tf.matmul(X.transpose(), self.layers[0]['weights']),\n",
    "                                  self.layers[0]'biases')\n",
    "        for layer in self.layers[1:-1]:\n",
    "            forward_propagation = tf.relu(tf.add(tf.matmul(forward_propagation, layer['weights']), \n",
    "                                                 layer['biases']))\n",
    "        \n",
    "        return tf.matmul(forward_propagation, self.layers[-1]['weights'])\n",
    "            \n",
    "    def train(self, logits, labels, epochs):\n",
    "        with tf.Session() as sess:\n",
    "            tf.initialize_global_variables()\n",
    "            loss = tf.losses.mean_squared_error(labels, )"
   ]
  }
 ],
 "metadata": {
  "kernelspec": {
   "display_name": "Python 3",
   "language": "python",
   "name": "python3"
  },
  "language_info": {
   "codemirror_mode": {
    "name": "ipython",
    "version": 3
   },
   "file_extension": ".py",
   "mimetype": "text/x-python",
   "name": "python",
   "nbconvert_exporter": "python",
   "pygments_lexer": "ipython3",
   "version": "3.6.8"
  }
 },
 "nbformat": 4,
 "nbformat_minor": 2
}
